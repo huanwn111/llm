{
 "cells": [
  {
   "cell_type": "code",
   "execution_count": 59,
   "id": "10091eea",
   "metadata": {},
   "outputs": [],
   "source": [
    "#yanlixin agent\n",
    "#功能设计：新闻摘要、在线聊天咨询……\n",
    "# from langchain_openai import ChatOpenAI\n",
    "from langchain_community.llms import Tongyi#阿里通义千问\n",
    "from langchain.embeddings.dashscope import DashScopeEmbeddings#通义embedding\n",
    "from langchain_community.document_loaders import TextLoader#文本加载器\n",
    "from langchain.text_splitter import RecursiveCharacterTextSplitter#文本拆分器\n",
    "from langchain_community.vectorstores import Chroma#向量数据库\n",
    "from langchain.chains import RetrievalQA#检索器检索模块\n",
    "from pydantic import BaseModel#输出数据结构体\n",
    "import os\n",
    "from langchain.prompts import ChatPromptTemplate\n",
    "from langchain.schema import StrOutputParser\n",
    "from langchain.schema.runnable import RunnablePassthrough"
   ]
  },
  {
   "cell_type": "code",
   "execution_count": 12,
   "id": "32c2faf1",
   "metadata": {},
   "outputs": [],
   "source": [
    "#GPT，次数已超限\n",
    "# OPENAI_API_KEY = \"KEY\"\n",
    "# BASE_URL = \"代理服务\"\n",
    "# # llm = ChatOpenAI(model=\"gpt-4\",openai_api_key=OPENAI_API_KEY,base_url = BASE_URL)\n",
    "# #在环境变量中设置openAI key \n",
    "# os.environ[\"OPENAI_API_KEY\"] = OPENAI_API_KEY #在环境变量配置openai key\n",
    "# # os.environ[\"base_url\"] = BASE_URL\n",
    "# llm = ChatOpenAI(model=\"gpt-4\",base_url = BASE_URL)\n",
    "# rs = llm.invoke(\"你是谁\")\n",
    "# print(rs)\n"
   ]
  },
  {
   "cell_type": "code",
   "execution_count": 16,
   "id": "fbda05dd",
   "metadata": {},
   "outputs": [],
   "source": [
    "#阿里通义千问\n",
    "# API-key:……",
    "os.environ[\"DASHSCOPE_API_KEY\"] = \"……\""
   ]
  },
  {
   "cell_type": "code",
   "execution_count": 20,
   "id": "810c7942",
   "metadata": {},
   "outputs": [
    {
     "name": "stdout",
     "output_type": "stream",
     "text": [
      "我是通义千问，由阿里云开发的人工智能助手。我被设计用来回答各种问题、提供信息和与用户进行对话。有什么我可以帮助你的吗？\n"
     ]
    }
   ],
   "source": [
    "llm = Tongyi(model=\"qwen-long\")\n",
    "rs = llm.invoke(\"你是谁\")\n",
    "print(rs)"
   ]
  },
  {
   "cell_type": "code",
   "execution_count": 24,
   "id": "db93af53",
   "metadata": {},
   "outputs": [],
   "source": [
    "fileData = '''\n",
    "注册香港公司的好处主要体现在以下几个方面：政策优惠、税务优势、融资便利、品牌塑造以及国际贸易便利化。\n",
    "一、政策优惠\n",
    "香港作为国际金融中心和贸易枢纽，政府对于企业的注册和运营提供了诸多优惠政策。香港公司注册流程简便，审批时间短，且无需繁琐的年检和审计程序。此外，香港政府对新兴行业和创新型企业给予了更多的支持和扶持，为企业的快速发展提供了有力保障。\n",
    "二、税务优势\n",
    "香港的税务制度相对简单且税率较低，为企业节省了大量的税务成本。香港实行地域税制，只对源自香港的利润征税，对于来自海外的利润则免征税收。此外，香港还与多个国家和地区签订了避免双重征税的协定，进一步减轻了企业的税务负担。\n",
    "三、融资便利\n",
    "香港作为全球金融中心，拥有庞大的资本市场和丰富的金融资源。注册香港公司可以更容易地获得国际投资机构的青睐，从而筹集到更多的资金。此外，香港公司还可以通过发行债券、股票等方式进行融资，进一步拓宽融资渠道。\n",
    "四、品牌塑造\n",
    "香港作为国际大都市，具有极高的知名度和美誉度。注册香港公司可以借助这一优势，提升企业的品牌形象和知名度。同时，香港公司的名称可以自由选择，有助于企业塑造独特的品牌形象。\n",
    "五、国际贸易便利化\n",
    "香港作为国际贸易枢纽，与世界多个国家和地区建立了广泛的贸易关系。注册香港公司可以更方便地开展国际贸易活动，享受更优惠的贸易政策和关税待遇。此外，香港还拥有完善的物流体系和便捷的交通网络，为企业开展国际贸易提供了有力支持。\n",
    "综上所述：\n",
    "注册香港公司具有政策优惠、税务优势、融资便利、品牌塑造以及国际贸易便利化等诸多好处。这些优势不仅有助于企业降低运营成本、提高盈利能力，还有助于企业拓展国际市场、提升品牌形象。因此，对于有意拓展海外业务或提升品牌形象的企业来说，注册香港公司无疑是一个明智的选择。\n",
    "法律依据：\n",
    "《中华人民共和国香港特别行政区基本法》\n",
    "第二条规定：\n",
    "全国人民代表大会授权香港特别行政区依照本法的规定实行高度自治，享有行政管理权、立法权、独立的司法权和终审权。\n",
    "《中华人民共和国香港特别行政区基本法》\n",
    "第一百零八条规定：\n",
    "香港特别行政区实行低税制度，香港特别行政区参照原在香港实行的低税政策，自行立法规定税种、税率、税收宽免和其他税务事项。\n",
    "《中华人民共和国香港特别行政区基本法》\n",
    "第一百一十条规定：\n",
    "香港特别行政区保持财政独立。香港特别行政区的财政收入全部用于自身需要，不上缴中央人民政府。中央人民政府不在香港特别行政区征税。\n",
    "'''"
   ]
  },
  {
   "cell_type": "code",
   "execution_count": 53,
   "id": "50f7fe6e",
   "metadata": {},
   "outputs": [
    {
     "name": "stdout",
     "output_type": "stream",
     "text": [
      "注册香港公司的好处主要体现在以下几个方面：政策优惠、税务优势、融资便利、品牌塑造以及国际贸易便利化。\n",
      "一、政策优惠\n",
      "香港作为国际金融中心和贸易枢纽，政府对于企业的注册和运营提供了诸多优惠政策。香港公司注册流程简便，审批时间短，且无需繁琐的年检和审计程序。此外，香港政府对新兴行业和创新型企业给予了更多的支持和扶持，\n",
      "行业和创新型企业给予了更多的支持和扶持，为企业的快速发展提供了有力保障。\n",
      "二、税务优势\n",
      "香港的税务制度相对简单且税率较低，为企业节省了大量的税务成本。香港实行地域税制，只对源自香港的利润征税，对于来自海外的利润则免征税收。此外，香港还与多个国家和地区签订了避免双重征税的协定，进一步减轻\n",
      "地区签订了避免双重征税的协定，进一步减轻了企业的税务负担。\n",
      "三、融资便利\n",
      "香港作为全球金融中心，拥有庞大的资本市场和丰富的金融资源。注册香港公司可以更容易地获得国际投资机构的青睐，从而筹集到更多的资金。此外，香港公司还可以通过发行债券、股票等方式进行融资，进一步拓宽融资渠\n",
      "券、股票等方式进行融资，进一步拓宽融资渠道。\n",
      "四、品牌塑造\n",
      "香港作为国际大都市，具有极高的知名度和美誉度。注册香港公司可以借助这一优势，提升企业的品牌形象和知名度。同时，香港公司的名称可以自由选择，有助于企业塑造独特的品牌形象。\n",
      "五、国际贸易便利化\n",
      "香港作为国际贸易枢纽，与世界多个国家和地区建立了广泛的贸易关系。注册香港公司可以更方便地开展国际贸易活动，享受更优惠的贸易政策和关税待遇。此外，香港还拥有完善的物流体系和便捷的交通网络，为企业开展国\n",
      "的物流体系和便捷的交通网络，为企业开展国际贸易提供了有力支持。\n",
      "综上所述：\n",
      "注册香港公司具有政策优惠、税务优势、融资便利、品牌塑造以及国际贸易便利化等诸多好处。这些优势不仅有助于企业降低运营成本、提高盈利能力，还有助于企业拓展国际市场、提升品牌形象。因此，对于有意拓展海外业\n",
      "、提升品牌形象。因此，对于有意拓展海外业务或提升品牌形象的企业来说，注册香港公司无疑是一个明智的选择。\n",
      "法律依据：\n",
      "《中华人民共和国香港特别行政区基本法》\n",
      "第二条规定：\n",
      "全国人民代表大会授权香港特别行政区依照本法的规定实行高度自治，享有行政管理权、立法权、独立的司法权和终审权。\n",
      "《中华人民共和国香港特别行政区基本法》\n",
      "第一百零八条规定：\n",
      "香港特别行政区实行低税制度，香港特别行政区参照原在香港实行的低税政策，自行立法规定税种、税率、税收宽免和其他税务事项。\n",
      "《中华人民共和国香港特别行政区基本法》\n",
      "第一百一十条规定：\n",
      "香港特别行政区保持财政独立。香港特别行政区的财政收入全部用于自身需要，不上缴中央人民政府。中央人民政府不在香港特别行政区征税。\n"
     ]
    }
   ],
   "source": [
    "splitter = RecursiveCharacterTextSplitter(\n",
    "    chunk_size = 100,\n",
    "    chunk_overlap = 20,\n",
    "    length_function = len,\n",
    "    add_start_index = True,\n",
    ")\n",
    "chunks = splitter.create_documents([fileData])\n",
    "for chunk in chunks:\n",
    "    print(chunk.page_content)\n",
    "emb = DashScopeEmbeddings(model = \"text-embedding-v1\")\n",
    "vecDb = Chroma.from_documents(chunks,emb )\n",
    "# searchs = "
   ]
  },
  {
   "cell_type": "code",
   "execution_count": 54,
   "id": "ed95ff65",
   "metadata": {},
   "outputs": [
    {
     "name": "stdout",
     "output_type": "stream",
     "text": [
      "tags=['Chroma', 'DashScopeEmbeddings'] vectorstore=<langchain_community.vectorstores.chroma.Chroma object at 0x0000023028EA9CA0>\n"
     ]
    }
   ],
   "source": [
    "searches = vecDb.as_retriever(search_kwags={\"k\":1})\n",
    "print(searches)"
   ]
  },
  {
   "cell_type": "code",
   "execution_count": 57,
   "id": "c245e1ce",
   "metadata": {},
   "outputs": [],
   "source": [
    "#测试检查功能\n",
    "rsTest = searches.get_relevant_documents(\"注册香港公司的政策优惠\")\n"
   ]
  },
  {
   "cell_type": "code",
   "execution_count": 58,
   "id": "3a05d5e0",
   "metadata": {},
   "outputs": [
    {
     "name": "stdout",
     "output_type": "stream",
     "text": [
      "注册香港公司的好处主要体现在以下几个方面：政策优惠、税务优势、融资便利、品牌塑造以及国际贸易便利化。\n",
      "一、政策优惠\n"
     ]
    }
   ],
   "source": [
    "print(rsTest[0].page_content)"
   ]
  },
  {
   "cell_type": "code",
   "execution_count": 63,
   "id": "a940c91f",
   "metadata": {},
   "outputs": [
    {
     "data": {
      "text/plain": [
       "'注册香港公司具有多项优势：一是政策优惠，包括简便的注册流程、政府对新兴产业的支持等；二是税务优势，如较低的税率和地域性征税原则，以及避免双重征税的协议；三是融资便利，易于吸引国际投资；四是有利于品牌塑造，提升企业形象；五是国际贸易便利化，便于开展国际业务并享受优惠贸易政策。这些优势有助于企业降低成本、增加盈利并拓展国际市场。'"
      ]
     },
     "execution_count": 63,
     "metadata": {},
     "output_type": "execute_result"
    }
   ],
   "source": [
    "template = \"请根据已知信息提取100字以内的文本摘要：context:{info},query:{q}\"\n",
    "prompt = ChatPromptTemplate.from_template(template)\n",
    "ragChain = (\n",
    "{\"info\":searches,\"q\":RunnablePassthrough()}\n",
    "    |prompt\n",
    "    |llm\n",
    "    |StrOutputParser()\n",
    ")\n",
    "ragChain.invoke(fileData)"
   ]
  },
  {
   "cell_type": "code",
   "execution_count": null,
   "id": "72e3e5ed",
   "metadata": {},
   "outputs": [],
   "source": []
  }
 ],
 "metadata": {
  "kernelspec": {
   "display_name": "Python 3 (ipykernel)",
   "language": "python",
   "name": "python3"
  },
  "language_info": {
   "codemirror_mode": {
    "name": "ipython",
    "version": 3
   },
   "file_extension": ".py",
   "mimetype": "text/x-python",
   "name": "python",
   "nbconvert_exporter": "python",
   "pygments_lexer": "ipython3",
   "version": "3.9.12"
  }
 },
 "nbformat": 4,
 "nbformat_minor": 5
}
