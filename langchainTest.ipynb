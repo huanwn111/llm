{
 "cells": [
  {
   "cell_type": "code",
   "execution_count": 1,
   "id": "e870e695",
   "metadata": {},
   "outputs": [],
   "source": [
    "#==Langchain测试==\n",
    "from langchain_openai import ChatOpenAI\n",
    "import os"
   ]
  },
  {
   "cell_type": "code",
   "execution_count": 2,
   "id": "cf84baae",
   "metadata": {},
   "outputs": [],
   "source": [
    "OPENAI_API_KEY = \"sk-AtyfqplUXbPUnVRn7USJTnqGS6L4dznm1ilAHDMATJmJFDlO\"\n",
    "BASE_URL = \"https://api.fe8.cn/v1\"\n",
    "# llm = ChatOpenAI(model=\"gpt-4\",openai_api_key=OPENAI_API_KEY,base_url = BASE_URL)\n",
    "#在环境变量中设置openAI key \n",
    "os.environ[\"OPENAI_API_KEY\"] = OPENAI_API_KEY #在环境变量配置openai key\n",
    "# os.environ[\"base_url\"] = BASE_URL\n",
    "\n"
   ]
  },
  {
   "cell_type": "code",
   "execution_count": 3,
   "id": "55528ad7",
   "metadata": {},
   "outputs": [
    {
     "name": "stdout",
     "output_type": "stream",
     "text": [
      "content='我是一个人工智能助手，由OpenAI创建，用于回答问题、提供信息和帮助用户解决各种问题。我基于大量数据训练，可以在多个领域提供帮助。你有什么问题或需要帮助的吗？我会尽力为你提供支持。' response_metadata={'token_usage': {'completion_tokens': 95, 'prompt_tokens': 11, 'total_tokens': 106}, 'model_name': 'gpt-4', 'system_fingerprint': 'fp_811936bd4f', 'finish_reason': 'stop', 'logprobs': None} id='run-d38cc232-7b87-4ba8-a051-3b7e07898b7c-0' usage_metadata={'input_tokens': 11, 'output_tokens': 95, 'total_tokens': 106}\n"
     ]
    }
   ],
   "source": [
    "llm = ChatOpenAI(model=\"gpt-4\",base_url = BASE_URL)\n",
    "rs = llm.invoke(\"你是谁\")\n",
    "print(rs)"
   ]
  },
  {
   "cell_type": "code",
   "execution_count": 15,
   "id": "4041a8e7",
   "metadata": {},
   "outputs": [
    {
     "name": "stdout",
     "output_type": "stream",
     "text": [
      "content='燕立信是一家为企业提供离岸公司服务的公司。该公司主要帮助客户设立和管理离岸公司，提供有关税务规划、法律合规、公司注册等方面的咨询和服务。燕立信致力于帮助企业实现国际化经营，优化企业结构，提高运营效率。' response_metadata={'token_usage': {'completion_tokens': 111, 'prompt_tokens': 42, 'total_tokens': 153}, 'model_name': 'gpt-4', 'system_fingerprint': None, 'finish_reason': 'stop', 'logprobs': None} id='run-2342fcce-b7f5-44f4-a6e8-361796fc87b1-0' usage_metadata={'input_tokens': 42, 'output_tokens': 111, 'total_tokens': 153}\n"
     ]
    }
   ],
   "source": [
    "#多轮模型对话\n",
    "from langchain.schema import(\n",
    "    AIMessage,#AI回复\n",
    "    HumanMessage,#系统前置设定\n",
    "    SystemMessage#用户输入\n",
    ")\n",
    "# msg = [\n",
    "#     HumanMessage(content = \"你是谁？\")\n",
    "# ]\n",
    "msg = [\n",
    "    SystemMessage(content = \"燕立信是一家为企业提供离岸公司服务的公司\"),\n",
    "    HumanMessage(content = \"请问燕立信是一个什么企业\")\n",
    "]\n",
    "rs2 = llm.invoke(msg)\n",
    "print(rs2)"
   ]
  },
  {
   "cell_type": "code",
   "execution_count": 5,
   "id": "e1764860",
   "metadata": {},
   "outputs": [
    {
     "name": "stdout",
     "output_type": "stream",
     "text": [
      "content='您好！请告诉我您的问题，我会尽力帮您解答。' response_metadata={'token_usage': {'completion_tokens': 24, 'prompt_tokens': 27, 'total_tokens': 51}, 'model_name': 'gpt-4', 'system_fingerprint': None, 'finish_reason': 'stop', 'logprobs': None} id='run-2fd34eef-6401-4766-8a83-bc4292a780ff-0' usage_metadata={'input_tokens': 27, 'output_tokens': 24, 'total_tokens': 51}\n"
     ]
    }
   ],
   "source": [
    "msg3 = [\n",
    "    AIMessage(content = \"我是AI小助手，有什么可以帮到您，请提问\"),\n",
    "#     SystemMessage(content = \"燕立信是一家为企业提供离岸公司服务的公司\"),\n",
    "#     HumanMessage(content = \"请问燕立信是一个什么企业\")\n",
    "]\n",
    "rs3 = llm.invoke(msg3)\n",
    "print(rs3)"
   ]
  },
  {
   "cell_type": "code",
   "execution_count": 6,
   "id": "a751a49d",
   "metadata": {},
   "outputs": [],
   "source": [
    "#换模型同样结构，引用模型，设定msg = [ HumanMessage(content = \"\"),AIMessage(content = \"\"),SystemMessage(content = \"\")], invoke(msg)\n"
   ]
  },
  {
   "cell_type": "code",
   "execution_count": 7,
   "id": "706baeea",
   "metadata": {},
   "outputs": [
    {
     "name": "stdout",
     "output_type": "stream",
     "text": [
      "content='抱歉，我无法提供具体的路线信息。不过，您可以使用地图应用（如高德地图、百度地图或谷歌地图）来查找从您的位置到燕立信公司在北京市朝阳公园附近的具体路线。只需输入您的起始位置和目的地，就可以获得详细的路线指导。' response_metadata={'token_usage': {'completion_tokens': 107, 'prompt_tokens': 45, 'total_tokens': 152}, 'model_name': 'gpt-4', 'system_fingerprint': None, 'finish_reason': 'stop', 'logprobs': None} id='run-798c1355-f2e6-4f69-8fed-163ccf2ec112-0' usage_metadata={'input_tokens': 45, 'output_tokens': 107, 'total_tokens': 152}\n"
     ]
    }
   ],
   "source": [
    "#使用prompt封装改进以上功能\n",
    "from langchain.prompts import(\n",
    "    ChatPromptTemplate,\n",
    "    HumanMessagePromptTemplate,\n",
    "    SystemMessagePromptTemplate,\n",
    ")\n",
    "\n",
    "temp = ChatPromptTemplate.from_messages(\n",
    "    [\n",
    "        SystemMessagePromptTemplate.from_template(\"{info}\"),\n",
    "        HumanMessagePromptTemplate.from_template(\"{query}\"),\n",
    "    ]\n",
    ")\n",
    "\n",
    "\n",
    "prompt = temp.format_messages(\n",
    "    info = \"燕立信的公司地址在北京市朝阳公园附近\",\n",
    "    query = \"请问从天安门到燕立信公司怎么走\"\n",
    ")\n",
    "\n",
    "rs4 = llm.invoke(prompt)\n",
    "print(rs4)"
   ]
  },
  {
   "cell_type": "code",
   "execution_count": 8,
   "id": "92b7d46e",
   "metadata": {},
   "outputs": [],
   "source": [
    "#方法二，多轮对话用MessagePlaceholder占位，随时传递拼接某段消息\n"
   ]
  },
  {
   "cell_type": "code",
   "execution_count": 9,
   "id": "06bc2531",
   "metadata": {},
   "outputs": [],
   "source": [
    "#==从文件加载prompt(可以用来做RAG)==\n",
    "from langchain.prompts import PromptTemplate\n"
   ]
  },
  {
   "cell_type": "code",
   "execution_count": 34,
   "id": "6ceb2b58",
   "metadata": {},
   "outputs": [],
   "source": [
    "#==输出结构化 OutputParser==\n",
    "#==Pydantic(JSON格式输出测试)Parser\n",
    "from langchain_core.pydantic_v1 import BaseModel,Field, validator\n",
    "from typing import List,Dict\n",
    "#定义输出结构体\n",
    "class outObj(BaseModel):\n",
    "    name:str = Field(description=\"Name\")\n",
    "    tel:int = Field(description=\"Telephone number\")\n",
    "        \n",
    "    #手机号码验证\n",
    "    @validator('tel')\n",
    "    def valid_tel(cls,field):\n",
    "        if len(field)!=11:\n",
    "            raise ValueError(\"手机号码位数不对\")\n",
    "        return field\n"
   ]
  },
  {
   "cell_type": "code",
   "execution_count": 44,
   "id": "e0fbdcdb",
   "metadata": {},
   "outputs": [
    {
     "name": "stdout",
     "output_type": "stream",
     "text": [
      "content='{\"name\": \"王小燕\", \"tel\": 18200000001}' response_metadata={'token_usage': {'completion_tokens': 20, 'prompt_tokens': 257, 'total_tokens': 277}, 'model_name': 'gpt-4', 'system_fingerprint': 'fp_811936bd4f', 'finish_reason': 'stop', 'logprobs': None} id='run-e629bbe9-aa7e-4540-8927-c06d7c4305c1-0' usage_metadata={'input_tokens': 257, 'output_tokens': 20, 'total_tokens': 277}\n",
      "{\"name\": \"王小燕\", \"tel\": 18200000001}\n"
     ]
    }
   ],
   "source": [
    "#langChain调用解析输出结构体   \n",
    "from langchain.prompts import PromptTemplate,ChatPromptTemplate,HumanMessagePromptTemplate\n",
    "from langchain_openai import ChatOpenAI\n",
    "from langchain_core.output_parsers import PydanticOutputParser\n",
    "\n",
    "outParser = PydanticOutputParser(pydantic_object = outObj)#解析输出结构体\n",
    "\n",
    "templte = '''\n",
    "请提取用户输入的姓名和手机号码,输出格式如下：\n",
    "{outInfo}\n",
    "不要输出未提及的字段、文字及字符，也不要输出任何json格式以外的提示和符吓，如“json”、“输出”等字样\n",
    "\n",
    "用户输入：\n",
    "{query}\n",
    "'''\n",
    "prmpt = PromptTemplate(\n",
    "    template = templte,\n",
    "    input_variable = [\"query\"],\n",
    "    #将输出parser结构体对象转字符串，填充到Prompt模板\n",
    "    partial_variables = {\"outInfo\":outParser.get_format_instructions()}\n",
    ")\n",
    "# print(\"==outParser==\")\n",
    "# print(outParser.get_format_instructions())\n",
    "\n",
    "llm = ChatOpenAI(model=\"gpt-4\",base_url = BASE_URL)\n",
    "\n",
    "qry = \"联系人王小燕，电话：18200000001\"\n",
    "\n",
    "model_input = prmpt.format_prompt(query=qry)\n",
    "\n",
    "rsOut = llm.invoke(model_input)\n",
    "\n",
    "print(rsOut)\n",
    "print(rsOut.content)\n",
    "\n"
   ]
  },
  {
   "cell_type": "code",
   "execution_count": 49,
   "id": "aac17b45",
   "metadata": {},
   "outputs": [],
   "source": [
    "# from langchain.output_parsers import OutputFixingParser#json格式修复\n",
    "\n",
    "# #输出json格式修复\n",
    "# new_parser = OutputFixingParser.from_llm(parser = outParser,llm=ChatOpenAI(model=\"gpt-4\"))\n",
    "# rsOut2 = '{\"name\": \"王小燕\", \"tel\": 18200000001}'\n",
    "# rsOutNew = new_parser.parse(rsOut2)\n",
    "# print(\"==修改json格式输出后==\")\n",
    "# print(rsOutNew)"
   ]
  },
  {
   "cell_type": "code",
   "execution_count": 14,
   "id": "8655c9f8",
   "metadata": {},
   "outputs": [
    {
     "name": "stdout",
     "output_type": "stream",
     "text": [
      "input_variables=['name'] template='{name}公司是做什么业务的？'\n",
      "燕立信公司是做什么业务的？\n"
     ]
    }
   ],
   "source": [
    "# templateTest = PromptTemplate.from_file(\"testTemplate.txt\")\n",
    "# templateTest = PromptTemplate.from_file(\"aboutYanlixin.pdf\")\n",
    "#【PromptTemplate.from_file gbk编码报错 用with open 打开，PromptTemplate.from_template转读取】\n",
    "with open(\"testTemplate.txt\", \"r\", encoding=\"utf-8\") as file:\n",
    "    template2 = file.read()\n",
    "# print(template2)\n",
    "templateTest = PromptTemplate.from_template(template2)\n",
    "print(templateTest)\n",
    "print(templateTest.format(name=\"燕立信\"))"
   ]
  },
  {
   "cell_type": "code",
   "execution_count": 57,
   "id": "12ba82ed",
   "metadata": {},
   "outputs": [],
   "source": [
    "#==LLM+RAG 向量数据库检索 ==\n",
    "from langchain_openai import OpenAIEmbeddings\n",
    "from langchain_text_splitters import RecursiveCharacterTextSplitter#文档切割\n",
    "from langchain_community.vectorstores import Chroma#Langchain封装好的向量数据库\n",
    "from langchain_openai import ChatOpenAI\n",
    "from langchain.chains import RetrievalQA#检索模块\n",
    "from langchain_community.document_loaders import PyPDFLoader#PDF文件加载器\n"
   ]
  },
  {
   "cell_type": "code",
   "execution_count": 12,
   "id": "6888cde7",
   "metadata": {},
   "outputs": [
    {
     "name": "stdout",
     "output_type": "stream",
     "text": [
      "1\n",
      "燕立信集团\n",
      "企业简介\n",
      "燕立信集团北京分公司是一家专注于海外公司注册的咨询服务机构，提供全球离岸注册\n",
      "地平台超过60多个国家及地区，专注于离岸公司注册、开户、年审、做账审计报税、商标\n",
      "品牌保护，海外融资及资产管理，海外移居优品生活，致力于打造一站式企业配套服务平台。\n",
      "燕立信北京分公司曾获\"北京市诚信示范企业〃荣誉。\n",
      "公司团队\n",
      "燕立信集团团队成员，由资深的香港执业会计师、英国特许公认会计师、公会资深成员、\n",
      "财务策划师、注册资深顾问等组成，拥有丰富的离岸公司办理经验，视野兼具专业深度与全\n",
      "球广度。\n",
      "企业服务\n",
      "燕立信集团专注于企业服务，产品覆盖企业生命全周期，包括：香港公司注册，银行开\n",
      "户，香港公司年审、审计报税；马绍尔群岛公司注册，年检及经济实质申报服务；新加坡公\n",
      "司注册，美国公司注册等海外公司注册，以及海外商标注册等。\n",
      "燕立信集团自成立以来，一直致力于为客户提供“企业迈向海外”的一站式服务。本着\n",
      "“帮助更多企业迈向全球，帮助更多国人走向世界”的服务理念，燕立信集团致力于打造成\n",
      "为受行业尊重，客户信赖的专业团队。\n",
      "我们仰望星空，更脚踏实地，在这个措手不及的年份里，我们看到了希望也感受到了温\n",
      "暖，我们感谢每一位客户、不负每一份信任，用心分析思考全程为您护航。\n",
      "企业保障\n",
      "信息保密 资料保密\n",
      "严格保密客户信息 售前售后，及时响应\n",
      "全程服务 关键环节100%提醒\n",
      "多元产品 诚信价格\n",
      "提供多领域及服务支持 合法合规专业人士执行\n",
      "所有注册及开户服务 价格清晰，以合理价格享品质服务\n"
     ]
    }
   ],
   "source": [
    "f = PyPDFLoader(\"aboutYanlixin.pdf\")\n",
    "pages = f.load_and_split()#按照pdf的本身页数拆分\n",
    "print(len(pages))#原文件仅有一页\n",
    "print(pages[0].page_content)"
   ]
  },
  {
   "cell_type": "code",
   "execution_count": 13,
   "id": "22826bfc",
   "metadata": {
    "scrolled": true
   },
   "outputs": [
    {
     "name": "stdout",
     "output_type": "stream",
     "text": [
      "燕立信集团\n",
      "企业简介\n",
      "燕立信集团北京分公司是一家专注于海外公司注册的咨询服务机构，提供全球离岸注册\n",
      "地平台超过60多个国家及地区，专注于离岸公司注册、开户、年审、做账审计报税、商标\n",
      "------------\n",
      "品牌保护，海外融资及资产管理，海外移居优品生活，致力于打造一站式企业配套服务平台。\n",
      "燕立信北京分公司曾获\"北京市诚信示范企业〃荣誉。\n",
      "公司团队\n",
      "------------\n",
      "公司团队\n",
      "燕立信集团团队成员，由资深的香港执业会计师、英国特许公认会计师、公会资深成员、\n",
      "财务策划师、注册资深顾问等组成，拥有丰富的离岸公司办理经验，视野兼具专业深度与全\n",
      "球广度。\n",
      "企业服务\n",
      "------------\n",
      "球广度。\n",
      "企业服务\n",
      "燕立信集团专注于企业服务，产品覆盖企业生命全周期，包括：香港公司注册，银行开\n",
      "户，香港公司年审、审计报税；马绍尔群岛公司注册，年检及经济实质申报服务；新加坡公\n",
      "------------\n",
      "司注册，美国公司注册等海外公司注册，以及海外商标注册等。\n",
      "燕立信集团自成立以来，一直致力于为客户提供“企业迈向海外”的一站式服务。本着\n",
      "------------\n",
      "“帮助更多企业迈向全球，帮助更多国人走向世界”的服务理念，燕立信集团致力于打造成\n",
      "为受行业尊重，客户信赖的专业团队。\n",
      "我们仰望星空，更脚踏实地，在这个措手不及的年份里，我们看到了希望也感受到了温\n",
      "------------\n",
      "暖，我们感谢每一位客户、不负每一份信任，用心分析思考全程为您护航。\n",
      "企业保障\n",
      "信息保密 资料保密\n",
      "严格保密客户信息 售前售后，及时响应\n",
      "全程服务 关键环节100%提醒\n",
      "多元产品 诚信价格\n",
      "------------\n",
      "多元产品 诚信价格\n",
      "提供多领域及服务支持 合法合规专业人士执行\n",
      "所有注册及开户服务 价格清晰，以合理价格享品质服务\n",
      "------------\n"
     ]
    }
   ],
   "source": [
    "cuts = RecursiveCharacterTextSplitter(\n",
    "    chunk_size = 100,\n",
    "    chunk_overlap = 20,\n",
    "    length_function = len,\n",
    "    add_start_index = True,\n",
    ")\n",
    "#切割token\n",
    "paragraphs = cuts.create_documents([pages[0].page_content])\n",
    "for para in paragraphs:\n",
    "    print(para.page_content)\n",
    "    print(\"------------\")"
   ]
  },
  {
   "cell_type": "code",
   "execution_count": 17,
   "id": "c7370a31",
   "metadata": {},
   "outputs": [
    {
     "name": "stdout",
     "output_type": "stream",
     "text": [
      "tags=['Chroma', 'OpenAIEmbeddings'] vectorstore=<langchain_community.vectorstores.chroma.Chroma object at 0x000001EE7AC24070> search_kwargs={'k': 1}\n",
      "品牌保护，海外融资及资产管理，海外移居优品生活，致力于打造一站式企业配套服务平台。\n",
      "燕立信北京分公司曾获\"北京市诚信示范企业〃荣誉。\n",
      "公司团队\n"
     ]
    }
   ],
   "source": [
    "#向量化入库\n",
    "para2 = cuts.create_documents([pages[0].page_content])\n",
    "emb = OpenAIEmbeddings(base_url = BASE_URL)\n",
    "db = Chroma.from_documents(para2,emb)\n",
    "\n",
    "#检索\n",
    "searchs = db.as_retriever(search_kwargs={\"k\":1})#指定检索1条结果\n",
    "print(searchs)\n",
    "rsDoc = searchs.get_relevant_documents(\"燕立信的服务\")\n",
    "print(rsDoc[0].page_content)"
   ]
  },
  {
   "cell_type": "code",
   "execution_count": 49,
   "id": "9da23dc5",
   "metadata": {},
   "outputs": [
    {
     "name": "stdout",
     "output_type": "stream",
     "text": [
      "{'history': 'Human: 燕立信做哪些境外公司注册\\nAI: 香港、美国、英国'}\n",
      "{'history': 'Human: 燕立信做哪些境外公司注册\\nAI: 香港、美国、英国\\nHuman: 香港要准备什么材料\\nAI: 企业资质、法人身份证、企业财报'}\n",
      "Human: 燕立信做哪些境外公司注册\n",
      "AI: 香港、美国、英国\n",
      "Human: 香港要准备什么材料\n",
      "AI: 企业资质、法人身份证、企业财报\n"
     ]
    }
   ],
   "source": [
    "#多轮记忆ConversationTokenBufferMemory,save_context()\n",
    "from langchain.memory import ConversationBufferMemory, ConversationBufferWindowMemory, ConversationTokenBufferMemory\n",
    "\n",
    "# history = ConversationBufferMemory()\n",
    "#设置上下文保存条目\n",
    "history = ConversationBufferWindowMemory(k=3)\n",
    "#按token长度保留下下文，不会暴模型\n",
    "# history = ConversationTokenBufferMemory(\n",
    "#     llm = ChatOpenAI(model=\"gpt-4\",base_url = BASE_URL),\n",
    "#     max_token_limit=100)\n",
    "\n",
    "history.save_context({\"input\":\"燕立信做哪些境外公司注册\"},{\"output\":\"香港、美国、英国\"})\n",
    "print(history.load_memory_variables({}))\n",
    "history.save_context({\"input\":\"香港要准备什么材料\"},{\"output\":\"企业资质、法人身份证、企业财报\"})\n",
    "print(history.load_memory_variables({}))\n",
    "print(history.load_memory_variables({})['history'])"
   ]
  },
  {
   "cell_type": "code",
   "execution_count": 23,
   "id": "c6b081e6",
   "metadata": {},
   "outputs": [],
   "source": [
    "llmM = ChatOpenAI(model=\"gpt-4\",base_url = BASE_URL)"
   ]
  },
  {
   "cell_type": "code",
   "execution_count": 40,
   "id": "1aad1db0",
   "metadata": {},
   "outputs": [
    {
     "name": "stdout",
     "output_type": "stream",
     "text": [
      "content='AI: 美国的注册需要的材料可能包括：公司名称、公司地址、公司经营范围、股东和董事信息、注册资本、法人身份证等。具体材料可能因州和城市的法规有所不同，建议咨询专业的公司注册服务。' response_metadata={'token_usage': {'completion_tokens': 86, 'prompt_tokens': 82, 'total_tokens': 168}, 'model_name': 'gpt-4-0613', 'system_fingerprint': None, 'finish_reason': 'stop', 'logprobs': None} id='run-7fa1346d-6749-4ce9-b8f4-69164a45d4f9-0' usage_metadata={'input_tokens': 82, 'output_tokens': 86, 'total_tokens': 168}\n"
     ]
    }
   ],
   "source": [
    "from langchain.schema import(\n",
    "    AIMessage,#AI回复\n",
    "    HumanMessage,#系统前置设定\n",
    "    SystemMessage#用户输入\n",
    ")\n",
    "# msg = [\n",
    "#     HumanMessage(content = \"你是谁？\")\n",
    "# ]\n",
    "msgM = [\n",
    "    HumanMessage(content = history.load_memory_variables({})['history']+\"美国呢？\")\n",
    "]\n",
    "rsM = llmM.invoke(msgM)\n",
    "print(rsM)"
   ]
  },
  {
   "cell_type": "code",
   "execution_count": null,
   "id": "fe639147",
   "metadata": {},
   "outputs": [],
   "source": [
    "#上下文相关其它\n",
    "#对上下文做摘要ConversationSummaryMemory\n",
    "#保存Token数限制上下文，更早的做摘要ConversationSummaryBufferMemory\n",
    "#将Memory存在向量数据库，用户检索到相关的返回使用VectorStoreRetrieverMemory"
   ]
  },
  {
   "cell_type": "code",
   "execution_count": 55,
   "id": "5b4f2229",
   "metadata": {},
   "outputs": [
    {
     "name": "stdout",
     "output_type": "stream",
     "text": [
      "name='王小燕' tel=18200000001\n",
      "{\"name\": \"\\u738b\\u5c0f\\u71d5\", \"tel\": 18200000001}\n"
     ]
    }
   ],
   "source": [
    "#》》》Chain链式调用 RunnablePassthrough\n",
    "#例：解析一个用户的问话为结构化输出，使用LCEL链式调用来实现。\n",
    "# 调用语法：定义调用流程-》运行\n",
    "# run = ({\"query\":RunnablePassthrough()}|prompt|llm|parser)#将prompt,模型，结果，链式调用组装起来\n",
    "# run.invoke(\"请问。。。\")\n",
    "# RunnablePassthrough是占位符，用户输入的信息，用它填prompt->用prompt调Llm->用llm输出pars\n",
    "\n",
    "from langchain_openai import ChatOpenAI\n",
    "from langchain.prompts import ChatPromptTemplate\n",
    "from langchain.schema import StrOutputParser\n",
    "from langchain.schema.runnable import RunnablePassthrough\n",
    "from langchain_core.pydantic_v1 import BaseModel, Field, validator\n",
    "from typing import List, Dict, Optional\n",
    "from enum import Enum\n",
    "\n",
    "#定义输出结构体\n",
    "class outObj(BaseModel):\n",
    "#     name:str = Field(description=\"Name\")\n",
    "    name:Optional[str] = Field(description=\"Name\",default=None)#Optional允许字段为空\n",
    "    tel:int = Field(description=\"Telephone number\")\n",
    "        \n",
    "    #手机号码验证\n",
    "#     @validator('tel')\n",
    "#     def valid_tel(cls,field):\n",
    "#         if len(field)!=11:\n",
    "#             raise ValueError(\"手机号码位数不对\")\n",
    "#         return field\n",
    "\n",
    "outParser2 = PydanticOutputParser(pydantic_object=outObj)\n",
    "templte = '''\n",
    "请提取用户输入的姓名和手机号码,输出格式如下：\n",
    "{outInfo}\n",
    "不要输出未提及的字段、文字及字符，也不要输出任何json格式以外的提示和符吓，如“json”、“输出”等字样\n",
    "\n",
    "用户输入：\n",
    "{query}\n",
    "'''\n",
    "prompt = ChatPromptTemplate.from_messages(\n",
    "    [\n",
    "        (\"system\",templte),\n",
    "        (\"human\",\"{query}\"),\n",
    "    ]\n",
    ").partial(outInfo=outParser2.get_format_instructions())\n",
    "# llmModel = ChatOpenAI(model=\"gpt-4-0125-preview\",temperature=0)\n",
    "llm = ChatOpenAI(model=\"gpt-4\",base_url = BASE_URL)\n",
    "#定义LCEL(chain链式调用)流\n",
    "runChain = ({\"query\":RunnablePassthrough()}|prompt|llm|outParser2)\n",
    "# RunnablePassthrough是占位符，用户输入的信息，用它填prompt\n",
    "# ->用prompt调Llm\n",
    "# ->用llm输出pars\n",
    "\n",
    "query = \"联系人王小燕，电话：18200000001\"\n",
    "rsChain = runChain.invoke(query)\n",
    "print(rsChain)\n",
    "print(rsChain.json())"
   ]
  },
  {
   "cell_type": "code",
   "execution_count": 5,
   "id": "0abe5f5f",
   "metadata": {},
   "outputs": [
    {
     "name": "stdout",
     "output_type": "stream",
     "text": [
      "品牌保护，海外融资及资产管理，海外移居优品生活，致力于打造一站式企业配套服务平台。\n",
      "燕立信北京分公司曾获\"北京市诚信示范企业〃荣誉。\n",
      "公司团队\n"
     ]
    }
   ],
   "source": [
    "#==【完整可用】【LCEL链式调用流改写LLM+RAG结】==\n",
    "from langchain_openai import OpenAIEmbeddings\n",
    "from langchain_text_splitters import RecursiveCharacterTextSplitter#文档切割\n",
    "from langchain_community.vectorstores import Chroma#Langchain封装好的向量数据库\n",
    "from langchain_openai import ChatOpenAI\n",
    "from langchain.chains import RetrievalQA#检索模块\n",
    "from langchain_community.document_loaders import PyPDFLoader#PDF文件加载器\n",
    "from langchain.prompts import ChatPromptTemplate\n",
    "from langchain.schema import StrOutputParser\n",
    "from langchain.schema.runnable import RunnablePassthrough\n",
    "\n",
    "OPENAI_API_KEY = \"sk-AtyfqplUXbPUnVRn7USJTnqGS6L4dznm1ilAHDMATJmJFDlO\"\n",
    "BASE_URL = \"https://api.fe8.cn/v1\"\n",
    "# llm = ChatOpenAI(model=\"gpt-4\",openai_api_key=OPENAI_API_KEY,base_url = BASE_URL)\n",
    "#在环境变量中设置openAI key \n",
    "os.environ[\"OPENAI_API_KEY\"] = OPENAI_API_KEY #在环境变量配置openai key\n",
    "\n",
    "#load文件\n",
    "f = PyPDFLoader(\"aboutYanlixin.pdf\")\n",
    "pages = f.load_and_split()#按照pdf的本身页数拆分\n",
    "#定义token切割对象\n",
    "cuts = RecursiveCharacterTextSplitter(\n",
    "    chunk_size = 100,\n",
    "    chunk_overlap = 20,\n",
    "    length_function = len,\n",
    "    add_start_index = True,\n",
    ")\n",
    "#切割token\n",
    "tokens = cuts.create_documents([pages[0].page_content])\n",
    "\n",
    "#向量化入库\n",
    "emb = OpenAIEmbeddings(base_url = BASE_URL)\n",
    "db = Chroma.from_documents(tokens,emb)\n",
    "\n",
    "#检索\n",
    "searchs = db.as_retriever(search_kwargs={\"k\":1})#指定检索1条结果\n",
    "# print(searchs)\n",
    "#输入query，查看检索结果相关内容\n",
    "rsDoc = searchs.get_relevant_documents(\"燕立信的服务\")\n",
    "print(rsDoc[0].page_content)\n",
    "\n"
   ]
  },
  {
   "cell_type": "code",
   "execution_count": 7,
   "id": "060ee871",
   "metadata": {},
   "outputs": [
    {
     "data": {
      "text/plain": [
       "'燕立信的服务包括品牌保护，海外融资及资产管理，海外移居优品生活，以及致力于打造一站式企业配套服务平台。'"
      ]
     },
     "execution_count": 7,
     "metadata": {},
     "output_type": "execute_result"
    }
   ],
   "source": [
    "#定义模型\n",
    "llm = ChatOpenAI(model=\"gpt-4\",base_url = BASE_URL)\n",
    "\n",
    "#将上文的searchs,拼接到prompt中，送入LLM\n",
    "temp = \"请根据已知信息回答问题：context:{info}，query:{q}\"\n",
    "prompt = ChatPromptTemplate.from_template(temp)\n",
    "\n",
    "rag_chain = (\n",
    "    {\"info\":searchs,\"q\":RunnablePassthrough()}\n",
    "    |prompt\n",
    "    |llm\n",
    "    |StrOutputParser()\n",
    ")\n",
    "#RunnablePassthrough占位符\n",
    "#StrOutputParser()输出默认字符串结构\n",
    "rag_chain.invoke(\"燕立信的服务\")"
   ]
  },
  {
   "cell_type": "code",
   "execution_count": 5,
   "id": "c54ff695",
   "metadata": {},
   "outputs": [
    {
     "name": "stdout",
     "output_type": "stream",
     "text": [
      "{'functions': [{'args': {'v1': 18, 'v2': 2}, 'type': 'multiply'}], 'text': ''}\n"
     ]
    }
   ],
   "source": [
    "#==回调函数function calling==\n",
    "from langchain_core.tools import tool\n",
    "from langchain_core.output_parsers import StrOutputParser\n",
    "from langchain.output_parsers import JsonOutputToolsParser\n",
    "\n",
    "@tool\n",
    "def add(v1:int,v2:int)->int:\n",
    "    \"两个整数相加\"\n",
    "    return v1+v2\n",
    "#@tool+文档注释，把函数自动转为openAI的语法体系\n",
    "@tool\n",
    "def multiply(v1:int,v2:int)->int:\n",
    "    \"两个整数相乘\"\n",
    "    return v1*v2\n",
    "#注意上面的“两个数相乘”“两个数相加”不是注解，是给大模型看的，要写清楚，用\"\"双引号，不要用#\n",
    "\n",
    "#调用地图软件\n",
    "# @tool\n",
    "# def fn3():\n",
    "#     return \"燕立信的精确位置在朝阳区……，从天安门到。。。需。。。\"\n",
    "tools = [add,multiply]\n",
    "llm_with_tools = llm.bind_tools(tools)|{\n",
    "    \"functions\":JsonOutputToolsParser(),\n",
    "    \"text\":StrOutputParser()\n",
    "}\n",
    "#functions有function call 走此分支 返回json结果\n",
    "#text无function call 走此分支，返回文本结果\n",
    "rsTools = llm_with_tools.invoke(\"18的2倍是多少？请计算结果\")\n",
    "# rsTools = llm_with_tools.invoke(\"你是谁\")\n",
    "print(rsTools)"
   ]
  },
  {
   "cell_type": "code",
   "execution_count": 7,
   "id": "aa11847a",
   "metadata": {},
   "outputs": [
    {
     "name": "stdout",
     "output_type": "stream",
     "text": [
      "==tool_map==\n",
      "{'add': StructuredTool(name='add', description='两个整数相加', args_schema=<class 'pydantic.main.addSchema'>, func=<function add at 0x0000019975F30F70>), 'multiply': StructuredTool(name='multiply', description='两个整数相乘', args_schema=<class 'pydantic.main.multiplySchema'>, func=<function multiply at 0x0000019905EA70D0>)}\n",
      "[{'args': {'v1': 18, 'v2': 2}, 'type': 'multiply', 'output': 36}]\n"
     ]
    }
   ],
   "source": [
    "#解析并执行function calling 并返回结果\n",
    "from langchain_core.runnables import(RunnableMap,RunnableLambda,Runnable,RunnablePassthrough)\n",
    "from operator import itemgetter\n",
    "from typing import Union\n",
    "import json\n",
    "\n",
    "#==map遍历function 工具执行==\n",
    "#名称到函数名映射\n",
    "tool_map = {tool.name:tool for tool in tools}\n",
    "print(\"==tool_map==\")\n",
    "print(tool_map)\n",
    "def call_tool(tool_act:dict)->Union[str,Runnable]:#返回结果可以是str,Runnable任一类型之一\n",
    "    \"function call tool 执行\"\n",
    "    tool = tool_map[tool_act[\"type\"]]\n",
    "    return RunnablePassthrough.assign(\n",
    "        output = itemgetter(\"args\")|tool\n",
    "    )\n",
    "#itemgetter遍历获取字典中键为 \"args\" 的值\n",
    "call_tool_list = RunnableLambda(call_tool).map()\n",
    "\n",
    "#==判断函数分支==\n",
    "def routeFn(rs):\n",
    "    if len(rs[\"functions\"])>0:\n",
    "        return rs[\"functions\"]\n",
    "    else:\n",
    "        return rs[\"text\"]\n",
    "#==调用并执行function calling==\n",
    "llm_with_tools2 = llm.bind_tools(tools)|{\n",
    "    \"functions\":JsonOutputToolsParser()|call_tool_list,\n",
    "    \"text\":StrOutputParser()\n",
    "}|RunnableLambda(routeFn)\n",
    "\n",
    "rsTools2 = llm_with_tools2.invoke(\"18的2倍是多少？\")\n",
    "print(rsTools2)"
   ]
  },
  {
   "cell_type": "code",
   "execution_count": 8,
   "id": "4d7912f5",
   "metadata": {},
   "outputs": [],
   "source": [
    "#==RAG+LLM【方法总结：\n",
    "#读文档》切割》向量化入库》检索》链式拼合，把检索结果拼到chain中做已知信息上下文》链接调用大模型、prompt及输出格式处理函数》返回结果\n",
    "#中间插入tools回调函数分支选择】"
   ]
  },
  {
   "cell_type": "code",
   "execution_count": 3,
   "id": "848e6ca8",
   "metadata": {},
   "outputs": [],
   "source": [
    "#==Agent智能体==\n",
    "#原理：模型自主思考选择工具，完成一个多步的复杂任务，\n",
    "#核心模块有两块：Tools工具集，planning用prompt定义计划、控制步骤、分支、完成思考、选择tool执行任务。\n",
    "#另外有长短时记忆模块控制上下文和action控制执行操作\n",
    "#测试：实现一个Agent功能，“特朗谱最近一次被枪击是星期几”\n",
    "#需要两个工具：互联网时时消息搜索工具、日期到星期转换工具\n",
    "from langchain_openai import ChatOpenAI\n",
    "from langchain_community.utilities import SerpAPIWrapper\n",
    "from langchain.tools import Tool,tool\n",
    "import calendar\n",
    "import dateutil.parser as parser\n",
    "from datetime import date\n",
    "from datetime import datetime\n",
    "from langchain.agents import AgentExecutor, create_react_agent"
   ]
  },
  {
   "cell_type": "code",
   "execution_count": 4,
   "id": "e53325d1",
   "metadata": {},
   "outputs": [
    {
     "name": "stdout",
     "output_type": "stream",
     "text": [
      "Answer the following questions as best you can. You have access to the following tools:\n",
      "\n",
      "{tools}\n",
      "\n",
      "Use the following format:\n",
      "\n",
      "Question: the input question you must answer\n",
      "Thought: you should always think about what to do\n",
      "Action: the action to take, should be one of [{tool_names}]\n",
      "Action Input: the input to the action\n",
      "Observation: the result of the action\n",
      "... (this Thought/Action/Action Input/Observation can repeat N times)\n",
      "Thought: I now know the final answer\n",
      "Final Answer: the final answer to the original input question\n",
      "\n",
      "Begin!\n",
      "\n",
      "Question: {input}\n",
      "Thought:{agent_scratchpad}\n"
     ]
    }
   ],
   "source": [
    "#【可以自己编写智能Prompt流程，智能体的思考能力由prompt决定】\n",
    "#下载一个现有prompt react有关\n",
    "from langchain import hub\n",
    "import json\n",
    "promptAg1 = hub.pull(\"hwchase17/react\")\n",
    "print(promptAg1.template)#查看一个智能体的prompt"
   ]
  },
  {
   "cell_type": "code",
   "execution_count": 5,
   "id": "29a6a813",
   "metadata": {},
   "outputs": [
    {
     "name": "stdout",
     "output_type": "stream",
     "text": [
      "Question: Who lived longer, Muhammad Ali or Alan Turing?\n",
      "Are follow up questions needed here: Yes.\n",
      "Follow up: How old was Muhammad Ali when he died?\n",
      "Intermediate answer: Muhammad Ali was 74 years old when he died.\n",
      "Follow up: How old was Alan Turing when he died?\n",
      "Intermediate answer: Alan Turing was 41 years old when he died.\n",
      "So the final answer is: Muhammad Ali\n",
      "\n",
      "Question: When was the founder of craigslist born?\n",
      "Are follow up questions needed here: Yes.\n",
      "Follow up: Who was the founder of craigslist?\n",
      "Intermediate answer: Craigslist was founded by Craig Newmark.\n",
      "Follow up: When was Craig Newmark born?\n",
      "Intermediate answer: Craig Newmark was born on December 6, 1952.\n",
      "So the final answer is: December 6, 1952\n",
      "\n",
      "Question: Who was the maternal grandfather of George Washington?\n",
      "Are follow up questions needed here: Yes.\n",
      "Follow up: Who was the mother of George Washington?\n",
      "Intermediate answer: The mother of George Washington was Mary Ball Washington.\n",
      "Follow up: Who was the father of Mary Ball Washington?\n",
      "Intermediate answer: The father of Mary Ball Washington was Joseph Ball.\n",
      "So the final answer is: Joseph Ball\n",
      "\n",
      "Question: Are both the directors of Jaws and Casino Royale from the same country?\n",
      "Are follow up questions needed here: Yes.\n",
      "Follow up: Who is the director of Jaws?\n",
      "Intermediate answer: The director of Jaws is Steven Spielberg.\n",
      "Follow up: Where is Steven Spielberg from?\n",
      "Intermediate answer: The United States.\n",
      "Follow up: Who is the director of Casino Royale?\n",
      "Intermediate answer: The director of Casino Royale is Martin Campbell.\n",
      "Follow up: Where is Martin Campbell from?\n",
      "Intermediate answer: New Zealand.\n",
      "So the final answer is: No\n",
      "\n",
      "Question: {input}\n",
      "Are followup questions needed here:{agent_scratchpad}\n"
     ]
    }
   ],
   "source": [
    "#下载另一个现有prompt SelfAskWithSearch 自动追问有关\n",
    "promptAg2 = hub.pull(\"hwchase17/self-ask-with-search\")\n",
    "print(promptAg2.template)#查看这个智能体prompt结构"
   ]
  },
  {
   "cell_type": "code",
   "execution_count": null,
   "id": "333440b3",
   "metadata": {},
   "outputs": [],
   "source": [
    "#Google SerpAPIWrapper需注册取得key，如使用百度搜索API，自己封装一个Wrapper 函数使用\n",
    "#百度搜索API函数封装\n",
    "# class BaiduSearchAPIWrapper:  \n",
    "#     def __init__(self, api_key: str, secret_key: str):  \n",
    "#         self.api_key = api_key  \n",
    "#         self.secret_key = secret_key  \n",
    "#         self.base_url = \"https://aip.baidubce.com/rest/2.0/solution/v1/public/search\"\n",
    "#         #百度搜索API\n",
    "  \n",
    "#     def run(self, query: str) -> dict:  \n",
    "#         headers = {  \n",
    "#             'Content-Type': 'application/json',  \n",
    "#             'Api-Key': self.api_key,  \n",
    "#             'Secret-Key': self.secret_key  \n",
    "#         }  \n",
    "#         data = {  \n",
    "#             \"q\": query,  \n",
    "#             \"from\": 0,  # 起始位置  \n",
    "#             \"size\": 10  # 返回结果条数  \n",
    "#         }  \n",
    "#         response = requests.post(self.base_url, json=data, headers=headers)  \n",
    "#         response.raise_for_status()  # 如果响应状态码不是 200, 则引发HTTPError异常  \n",
    "#         return response.json()  "
   ]
  },
  {
   "cell_type": "code",
   "execution_count": 6,
   "id": "c833c7cc",
   "metadata": {},
   "outputs": [],
   "source": [
    "#时时搜索工具\n",
    "# search = SerpAPIWrapper()\n",
    "toolsAg = []\n",
    "# toolsAg = [\n",
    "#     Tool.from_function(\n",
    "#         func = search.run,\n",
    "#         name = \"时时搜索\",\n",
    "#         description=\"用于在互联网时时搜索最新的信息\",\n",
    "#     ),\n",
    "# ]\n",
    "#日期转星期工具\n",
    "@tool(\"weekDayFn\")\n",
    "def weekDayFn(dateV:str)->str:\n",
    "    \"将日期转为星期\"\n",
    "    if \"年\" in dateV:\n",
    "        dateV = datetime.strptime(dateV, '%Y年%m月%d日').strftime('%Y-%m-%d')\n",
    "    dObj = parser.parse(dateV)\n",
    "    return calendar.day_name[dObj.weekday()]\n",
    "\n",
    "toolsAg += [weekDayFn]"
   ]
  },
  {
   "cell_type": "code",
   "execution_count": 10,
   "id": "29b674a1",
   "metadata": {},
   "outputs": [
    {
     "data": {
      "text/plain": [
       "'Saturday'"
      ]
     },
     "execution_count": 10,
     "metadata": {},
     "output_type": "execute_result"
    }
   ],
   "source": [
    "weekDayFn(\"2024-07-13\")"
   ]
  },
  {
   "cell_type": "code",
   "execution_count": 33,
   "id": "80675028",
   "metadata": {},
   "outputs": [
    {
     "name": "stdout",
     "output_type": "stream",
     "text": [
      "\n",
      "\n",
      "\u001b[1m> Entering new AgentExecutor chain...\u001b[0m\n",
      "\u001b[32;1m\u001b[1;3mI do not have real-time or recent data about events including any incidents involving public figures such as Donald Trump. My knowledge is up to 2023, and I must rely on that information. However, I can use the weekDayFn to determine the day of the week for a given date if that date is provided.\n",
      "\n",
      "Thought: Since I do not have information on recent events, I cannot provide the day of the week for an event without a specific date.\n",
      "\n",
      "Final Answer: I do not have the information required to answer the question about the most recent date on which Donald Trump was shot, assuming such an event has taken place. If you provide a specific date, I could use the weekDayFn to determine the day of the week.\u001b[0m\n",
      "\n",
      "\u001b[1m> Finished chain.\u001b[0m\n"
     ]
    },
    {
     "data": {
      "text/plain": [
       "{'input': '特朗普最近一次被枪击是星期几？',\n",
       " 'output': 'I do not have the information required to answer the question about the most recent date on which Donald Trump was shot, assuming such an event has taken place. If you provide a specific date, I could use the weekDayFn to determine the day of the week.'}"
      ]
     },
     "execution_count": 33,
     "metadata": {},
     "output_type": "execute_result"
    }
   ],
   "source": [
    "#定义模型\n",
    "llm = ChatOpenAI(model=\"gpt-4\",base_url = BASE_URL)\n",
    "#定义agent\n",
    "agent1 = create_react_agent(llm,toolsAg,promptAg1)\n",
    "#定义agent执行器\n",
    "exe1 = AgentExecutor(agent=agent1,tools = toolsAg,verbose=True)\n",
    "exe1.invoke({\"input\":\"特朗普最近一次被枪击是星期几？\"})"
   ]
  },
  {
   "cell_type": "code",
   "execution_count": 7,
   "id": "a56ce31f",
   "metadata": {},
   "outputs": [
    {
     "name": "stdout",
     "output_type": "stream",
     "text": [
      "\n",
      "\n",
      "\u001b[1m> Entering new AgentExecutor chain...\u001b[0m\n",
      "\u001b[32;1m\u001b[1;3m我需要知道特朗普当选总统的具体日期，然后我可以使用weekDayFn函数来找出那一天是星期几。\n",
      "Action: Google Search\n",
      "Action Input: \"特朗普当选总统的日期\"\n",
      "\u001b[0mGoogle Search is not a valid tool, try one of [weekDayFn].\u001b[32;1m\u001b[1;3mThought: 由于我不能使用Google Search，我需要记得特朗普当选总统的日期。特朗普是在2016年11月8日当选为美国总统的。现在我可以使用weekDayFn来确定那天是星期几。\n",
      "Action: weekDayFn\n",
      "Action Input: 2016-11-08\n",
      "\u001b[0m\u001b[36;1m\u001b[1;3mTuesday\u001b[0m\u001b[32;1m\u001b[1;3mI now know the final answer\n",
      "Final Answer: 特朗普当选总统的那天是星期二。\u001b[0m\n",
      "\n",
      "\u001b[1m> Finished chain.\u001b[0m\n"
     ]
    },
    {
     "data": {
      "text/plain": [
       "{'input': '特朗普当选总统是星期几？', 'output': '特朗普当选总统的那天是星期二。'}"
      ]
     },
     "execution_count": 7,
     "metadata": {},
     "output_type": "execute_result"
    }
   ],
   "source": [
    "exe1.invoke({\"input\":\"特朗普当选总统是星期几？\"})"
   ]
  },
  {
   "cell_type": "code",
   "execution_count": 15,
   "id": "2c1a3d15",
   "metadata": {},
   "outputs": [
    {
     "name": "stdout",
     "output_type": "stream",
     "text": [
      "时时搜索文本长度： 1684\n"
     ]
    },
    {
     "data": {
      "text/plain": [
       "'\\n正在思考\\n\\n7·13美国总统选举枪击事件(2024年7月13日... - 百度百科\\ue610\\n\\ue66a当地时间2024年7月13日18时15分许，美国前总统特朗普在宾州举行竞选集会发表演讲时，一名枪手从集会现场外高处向特朗普所在的演讲台“开了数枪”，子弹击中特朗普的右耳。其余的子弹伤及三名无辜群众，造成1人死亡2人重伤。特朗普满脸是血，随后立即撤离了演...详情\\ue734\\n事件经过事件伤亡事件处置事件回应\\n\\n百度百科\\n\\n特朗普最近一次被枪击是星期几?的最新相关信息枪击特朗普嫌疑人信息公布枪击特朗普嫌疑人信息公布 美国前总统特朗普于当地时间13日傍晚在宾夕法尼亚州举行的竞选集会上遭未遂刺杀,嫌疑人在竞选集会现...新浪7月15日\\n\\n\\ue680\\n播报\\n\\n\\n\\ue67d\\n暂停\\n\\n特朗普遭刺杀,枪声进一步撕裂了美国|新京报专栏另据《华盛顿邮报》援引巴特勒市政府消息，目前有1名枪击嫌疑人已经死亡，另有1名集会参与者死亡，两人重伤。特朗普发表声明称...新京报评论7月14日\\n\\n\\ue680\\n播报\\n\\n\\n\\ue67d\\n暂停\\n\\n特朗普的竞选搭档万斯:曾公开辱骂特朗普,支持对中国...在当地时间13日遭遇枪击的特朗普，最近可谓正处于风口浪尖。虽然经历了一场惊心动魄的暗杀，但特朗普也因此收获了不少的关注，...扶苏梦史7小时前\\n\\n\\ue680\\n播报\\n\\n\\n\\ue67d\\n暂停\\n\\n查看更多\\ue613\\n\\n大家还在搜特朗普向佐治亚州州长“开火”热2024特朗普基本赢不了特朗普最新讲话视频特朗普发动战争特朗普被弹原因特朗普在位期间有没有发动战争特朗普是什么人特朗普能活多久\\n\\n进展:特朗普集会上遭遇枪击事件,可能是暗杀企图 - 哔哩哔哩2024年7月14日  2024年7月13号晚上9点42分美国东部时间 周六在宾夕法尼亚州的特朗普集会上爆发了枪击事件。特勤局在特朗普集会事件中迅速做出了回应。前总统特朗普在遭遇暴力...哔哩哔哩\\ue62b\\n\\n\\ue680\\n播报\\n\\n\\n\\ue67d\\n暂停\\n\\n\\n\\n对特朗普集会枪击事件,负全部责任!他,承认了!3天前 央视记者当地时间8月2日获悉,美国特勤局代理局长罗威在当日的新闻发布会上道歉,并承认特勤局对7月13日发生的特朗普集会枪击事件负全部责任。 罗威表示,将全力配合美国会...微信公众平台\\ue62b\\n\\n\\ue680\\n播报\\n\\n\\n\\ue67d\\n暂停\\n\\n\\n\\n“蹲下!蹲下!”——特朗普遭“未遂刺杀”震动美国\\n\\n\\n\\n\\n\\n\\n\\n\\n2024年7月14日  新华社北京7月14日电 美国前总统、共和党推定总统候选人唐纳德·特朗普13日在宾夕法尼亚州的竞选集会现场发生枪击事件。初步信息显示,一名枪手被当场击毙,一名集会参与者中弹身亡,...椰网\\ue62b\\n\\n\\ue680\\n播报\\n\\n\\n\\ue67d\\n暂停\\n\\n\\n\\n\\n\\n特朗普遇刺 改变美国大选轨迹2024年7月16日  枪声突然响起,8颗子弹射向集会现场,前总统特朗普捂住了鲜血涌出的右耳,低下身体躲避,随着支持者的尖叫,美国特勤局特工将他紧紧围住。这一幕发生在美东夏令时间...微信公众平台\\ue62b\\n\\n\\ue680\\n播报\\n\\n\\n\\ue67d\\n暂停\\n\\n\\n\\n视频曝光!特朗普枪击案新进展:美媒第一时间报道枪手是华人...\\n\\n\\n\\n\\n\\n\\n\\n\\n2024年7月16日  但其实,他已经得过一次了。 Vucci是2021年的普利策奖得主,以当时的佛洛依德案照片得奖。 他还当过战地记者,外形壮硕,是业余综合格斗运动员。 特朗普的照片,是否会让他再次获得最高...搜狐网\\ue62b\\n\\n\\ue680\\n播报\\n\\n\\n\\ue67d\\n暂停\\n\\n\\n\\n\\n\\n特朗普遭枪击,拜登、彭斯、奥巴马等发声-观察者网\\n\\n\\n\\n\\n\\n\\n\\n\\n2024年7月14日  当地时间7月13日,特朗普在宾夕法尼亚州竞选活动上遭遇枪击事件CNN  宾夕法尼亚州民主党籍州长乔什·夏皮罗谴责政治暴力,并表示他已听取了有关此次枪击事件的汇报。  夏皮罗在X平台...观察者网\\ue62b\\n\\n\\ue680\\n播报\\n\\n\\n\\ue67d\\n暂停\\n\\n\\n\\n\\n\\n特朗普遭枪击谜团:早有目击者提醒枪手踪迹!特勤局是不是故...2024年7月15日  自7月13日星期六在宾夕法尼亚州巴特勒的竞选集会上发生枪击事件以来,特朗普的盟友对特勤局在保护前总统方面的表现提出了猛烈批评。随着成千上万的人涌向密尔沃...金融界\\ue62b\\n\\n\\ue680\\n播报\\n\\n\\n\\ue67d\\n暂停\\n\\n\\n'"
      ]
     },
     "execution_count": 15,
     "metadata": {},
     "output_type": "execute_result"
    }
   ],
   "source": [
    "# 填加时时搜索tool，爬虫版\n",
    "import pandas as pd\n",
    "from bs4 import BeautifulSoup as BS\n",
    "import requests as req\n",
    "import re\n",
    "import time\n",
    "\n",
    "#时时搜索工具\n",
    "@tool(\"searchCurFn\")\n",
    "def searchCurFn(keyWord):\n",
    "    \"时时搜索,用于在互联网时时搜索最新的信息\"\n",
    "    #请求搜索列表页\n",
    "    keyWord = str(keyWord)\n",
    "    url1 = 'https://www.baidu.com/s?ie=utf-8&wd='+keyWord\n",
    "    headers ={\"User-Agent\": \"Mozilla/5.0 (Windows NT 10.0; Win64; x64) AppleWebKit/537.36 (KHTML, like Gecko) Chrome/79.0.3945.88 Safari/537.36\"}\n",
    "    res = req.get(url1,headers=headers)\n",
    "\n",
    "    rsHtml = res.content.decode('utf-8')#请求二进制内容转utf8，防中文乱码\n",
    "    time.sleep(1)\n",
    "    #print(rsHtml)\n",
    "    bsObj = BS(rsHtml,'html.parser')\n",
    "    leftObj = bsObj.find(\"div\",id=\"content_left\")\n",
    "    #收集相关搜索结果集\n",
    "    topList = []\n",
    "    topList = leftObj.find_all(\"div\", class_=\"result-op\")#头部搜索结果列表\n",
    "    topList += leftObj.find_all(\"div\", class_=\"result\")#一般搜索结果列表\n",
    "    #拼接搜索结果文本\n",
    "    searchListText = \"\"\n",
    "    if len(topList)>0:\n",
    "        for item in topList:\n",
    "            searchListText += item.text\n",
    "    print(\"时时搜索文本长度：\",len(searchListText))\n",
    "    time.sleep(1)\n",
    "#     searchListText = \"当地时间2024年7月13日18时15分许，美国前总统特朗普在宾州举行竞选集会发表演讲时，一名枪手从集会现场外高处向特朗普所在的演讲台“开了数枪”，子弹击中特朗普的右耳。其余的子弹伤及三名无辜群众，造成1人死亡2人重伤。特朗普满脸是血，随后立即撤离了演...详情\"\n",
    "    return searchListText\n",
    "\n",
    "searchCurFn(\"特朗普最近一次被枪击是星期几？\")"
   ]
  },
  {
   "cell_type": "code",
   "execution_count": 16,
   "id": "474978a8",
   "metadata": {},
   "outputs": [
    {
     "name": "stdout",
     "output_type": "stream",
     "text": [
      "\n",
      "\n",
      "\u001b[1m> Entering new AgentExecutor chain...\u001b[0m\n",
      "\u001b[32;1m\u001b[1;3m我需要找到特朗普最近一次被枪击的日期，然后用这个日期来确定是星期几。\n",
      "Action: searchCurFn\n",
      "Action Input: 特朗普 最近 一次 被枪击 日期\n",
      "\u001b[0m时时搜索文本长度： 1656\n",
      "\u001b[36;1m\u001b[1;3m\n",
      "大家还在搜特朗普访华时间特朗普向佐治亚州州长“开火”热2024特朗普基本赢不了特朗普下月访华特朗普最新讲话视频特朗普什么时候到期特朗普什么时候下去特朗普发动战争\n",
      "\n",
      "对特朗普集会枪击事件,负全部责任!他,承认了!4天前 央视记者当地时间8月2日获悉,美国特勤局代理局长罗威在当日的新闻发布会上道歉,并承认特勤局对7月13日发生的特朗普集会枪击事件负全部责任。 罗威表示,将全力配合美国会...微信公众平台\n",
      "\n",
      "\n",
      "播报\n",
      "\n",
      "\n",
      "\n",
      "暂停\n",
      "\n",
      "\n",
      "\n",
      "持续更新丨特朗普集会枪击事件枪手确认为20岁宾州男子\n",
      "\n",
      "\n",
      "\n",
      "\n",
      "\n",
      "\n",
      "\n",
      "\n",
      "2024年7月14日  特朗普枪击事件被定性为暗杀未遂 当地时间7月13日,美国执法官员表示,前总统特朗普集会枪击事件被定性为“暗杀未遂”,已作为刺杀案调查处理。据多名执法部门的消息人士称,枪手当时在...网易\n",
      "\n",
      "\n",
      "播报\n",
      "\n",
      "\n",
      "\n",
      "暂停\n",
      "\n",
      "\n",
      "\n",
      "\n",
      "\n",
      "特朗普险遭爆头过程复盘:凶手200米外连射8枪,被击毙画面曝光\n",
      "\n",
      "\n",
      "\n",
      "\n",
      "\n",
      "\n",
      "\n",
      "\n",
      "2024年7月27日  作为一位很有希望再次问鼎白宫的美国总统候选人,居然在大庭广众之下遭到枪击,还差一点儿就被爆头,这种场面堪与1963年的肯尼迪遇刺相比。现在越来越多的视频和照片已经流出,特朗普在...网易\n",
      "\n",
      "\n",
      "播报\n",
      "\n",
      "\n",
      "\n",
      "暂停\n",
      "\n",
      "\n",
      "\n",
      "\n",
      "\n",
      "刚刚特朗普已出院,枪击细节披露!\n",
      "\n",
      "\n",
      "\n",
      "\n",
      "\n",
      "\n",
      "\n",
      "\n",
      "2024年7月14日  据央视新闻消息,当地时间13日,美国前总统特朗普竞选团队在集会枪击事件发生后发表声明称,特朗普目前状况稳定,仍将继续出席当地时间15日在威斯康星州密尔沃基举行的共和党党代会。 ...微信公众平台\n",
      "\n",
      "\n",
      "播报\n",
      "\n",
      "\n",
      "\n",
      "暂停\n",
      "\n",
      "\n",
      "\n",
      "\n",
      "\n",
      "突发!特朗普竞选集会现场发生枪击事件,最新情况汇总→\n",
      "\n",
      "\n",
      "\n",
      "\n",
      "\n",
      "\n",
      "\n",
      "\n",
      "当地时间7月13日下午，特朗普在美国宾夕法尼亚州举行竞选集会发表演讲时，现场响起枪声。他在特勤人员保护下立即撤离了演讲台。宾州巴特勒当地检察官证实，嫌疑人已被击毙，另有集会参与者中枪身...\n",
      "\n",
      "\n",
      "\n",
      "\n",
      "中国银行保险报\n",
      "\n",
      "\n",
      "播报\n",
      "\n",
      "\n",
      "\n",
      "暂停\n",
      "\n",
      "\n",
      "\n",
      "\n",
      "\n",
      "特朗普遇袭后续:美特勤局负全责\n",
      "\n",
      "\n",
      "\n",
      "\n",
      "\n",
      "\n",
      "\n",
      "\n",
      "4天前 7月13日傍晚，特朗普在宾夕法尼亚州巴特勒市出席竞选集会。20岁枪手克鲁克斯从距特朗普演讲台约140米的一处建筑屋顶向特朗普连开数枪，导致特朗普右耳受伤，并致现场观众一人死亡、两人重伤...\n",
      "\n",
      "\n",
      "\n",
      "\n",
      "直新闻\n",
      "\n",
      "\n",
      "播报\n",
      "\n",
      "\n",
      "\n",
      "暂停\n",
      "\n",
      "\n",
      "\n",
      "\n",
      "\n",
      "特朗普在竞选集会现场遭枪击!嫌疑人被当场击毙,观众1死2伤\n",
      "\n",
      "\n",
      "\n",
      "\n",
      "\n",
      "\n",
      "\n",
      "\n",
      "当地时间7月13日，美国执法官员表示，前总统特朗普集会枪击事件被定性为“暗杀未遂”，已作为刺杀案调查处理。据多名执法部门的消息人士称，枪手当时在集会场地外的一栋建筑物上，执法人员初步认...\n",
      "\n",
      "\n",
      "\n",
      "\n",
      "新晚报\n",
      "\n",
      "\n",
      "播报\n",
      "\n",
      "\n",
      "\n",
      "暂停\n",
      "\n",
      "\n",
      "\n",
      "\n",
      "\n",
      "滚动更新丨特朗普遭枪击,嫌疑人被击毙\n",
      "\n",
      "\n",
      "\n",
      "\n",
      "\n",
      "\n",
      "\n",
      "\n",
      "2024年7月14日  美国特勤局13日通报说,一名枪手向特朗普集会演讲台开数枪,该枪手已被击毙,集会观众中1人死亡2人受伤,事件正在调查中。(新华社) 【8:42】 特朗普右耳上部中枪 美警方称其被提词器碎...浙江在线·新闻\n",
      "\n",
      "\n",
      "播报\n",
      "\n",
      "\n",
      "\n",
      "暂停\n",
      "\n",
      "\n",
      "\n",
      "\n",
      "\n",
      "特朗普遭枪击,演讲台现场多图公布!警方调查是否独自作案_...\n",
      "\n",
      "\n",
      "\n",
      "\n",
      "\n",
      "\n",
      "\n",
      "\n",
      "2024年7月15日  7月13日,美国前总统特朗普在宾夕法尼亚州巴特勒市的竞选集会现场被护送离开。 7月13日,美国前总统特朗普(前左三)在宾夕法尼亚州巴特勒市的竞选集会现场被护送离开。特朗普的右耳被...上观新闻\n",
      "\n",
      "\n",
      "播报\n",
      "\n",
      "\n",
      "\n",
      "暂停\n",
      "\n",
      "\n",
      "\n",
      "\n",
      "\n",
      "拜登退出总统大选的幕后真相:民主党的分裂与特朗普的逆袭...\n",
      "\n",
      "\n",
      "\n",
      "\n",
      "\n",
      "\n",
      "\n",
      "\n",
      "2024年7月25日  特朗普封口费案的宣判日期就在最近,按照以往,这必然会被拿出来大炒特炒,而在目前这种情况下,特朗普很可能会躲过这一波舆论攻击。 另外从媒体来看,在这一敏感时期也可能会避免对特朗...\n",
      "\n",
      "\n",
      "\n",
      "\n",
      "喜马拉雅\n",
      "\n",
      "\n",
      "\u001b[0m\u001b[32;1m\u001b[1;3m根据搜索结果，特朗普最近一次被枪击的日期是2024年7月13日。\n",
      "Thought:现在我需要使用weekDayFn工具来确定这个日期是星期几。\n",
      "Action: weekDayFn\n",
      "Action Input: 2024-07-13\n",
      "\u001b[0m\u001b[36;1m\u001b[1;3mSaturday\u001b[0m\u001b[32;1m\u001b[1;3m我现在知道最后的答案\n",
      "Final Answer: 特朗普最近一次被枪击是星期六。\u001b[0m\n",
      "\n",
      "\u001b[1m> Finished chain.\u001b[0m\n"
     ]
    },
    {
     "data": {
      "text/plain": [
       "{'input': '特朗普最近一次被枪击是星期几？', 'output': '特朗普最近一次被枪击是星期六。'}"
      ]
     },
     "execution_count": 16,
     "metadata": {},
     "output_type": "execute_result"
    }
   ],
   "source": [
    "toolsAg += [searchCurFn]\n",
    "\n",
    "#定义模型\n",
    "llm = ChatOpenAI(model=\"gpt-4\",base_url = BASE_URL)\n",
    "#定义agent\n",
    "agent2 = create_react_agent(llm,toolsAg,promptAg1)\n",
    "#定义agent执行器\n",
    "exe2 = AgentExecutor(agent=agent2,tools = toolsAg,verbose=True)\n",
    "exe2.invoke({\"input\":\"特朗普最近一次被枪击是星期几？\"})"
   ]
  },
  {
   "cell_type": "code",
   "execution_count": null,
   "id": "312c90d6",
   "metadata": {},
   "outputs": [],
   "source": []
  }
 ],
 "metadata": {
  "kernelspec": {
   "display_name": "Python 3 (ipykernel)",
   "language": "python",
   "name": "python3"
  },
  "language_info": {
   "codemirror_mode": {
    "name": "ipython",
    "version": 3
   },
   "file_extension": ".py",
   "mimetype": "text/x-python",
   "name": "python",
   "nbconvert_exporter": "python",
   "pygments_lexer": "ipython3",
   "version": "3.9.12"
  }
 },
 "nbformat": 4,
 "nbformat_minor": 5
}
